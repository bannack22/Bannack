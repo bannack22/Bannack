{
 "cells": [
  {
   "cell_type": "code",
   "execution_count": 15,
   "id": "a885a4cd",
   "metadata": {},
   "outputs": [
    {
     "name": "stdout",
     "output_type": "stream",
     "text": [
      "0.0011312449286287113\n"
     ]
    }
   ],
   "source": [
    "import numpy as np\n",
    "\n",
    "def rule4(m,dA,A,n,dB,B,q):\n",
    "    dQ = q*np.sqrt(((m*(dA/A))**2)+((n*(dB/B))**2))\n",
    "    return dQ\n",
    "\n",
    "p1 = 1/2\n",
    "error1 =.0005\n",
    "m1 = 34.5\n",
    "p2=1/2\n",
    "error2= .0005\n",
    "m2 = .221\n",
    "q=1\n",
    "errort = rule4(p1,error1,m1,p2,error2,m2,q)\n",
    "print(errort)\n",
    "              "
   ]
  },
  {
   "cell_type": "code",
   "execution_count": 6,
   "id": "3dc09adc",
   "metadata": {},
   "outputs": [
    {
     "name": "stdout",
     "output_type": "stream",
     "text": [
      "dtotal= 1.3\n",
      "errdtotal = 0.0007071067811865475\n"
     ]
    }
   ],
   "source": [
    "import numpy as np\n",
    "\n",
    "def rule3(da, db):\n",
    "    dQ= np.sqrt(da**2+db**2)\n",
    "    return dQ\n",
    "\n",
    "d1=1.0\n",
    "d2=.3\n",
    "errd1 = .0005\n",
    "errd2 = .0005\n",
    "dtotal = d1 +d2\n",
    "errdtotal = rule3(errd1, errd2)\n",
    "print('dtotal=',dtotal)\n",
    "print('errdtotal =', errdtotal)"
   ]
  },
  {
   "cell_type": "code",
   "execution_count": 8,
   "id": "2d0fd62f",
   "metadata": {},
   "outputs": [
    {
     "name": "stdout",
     "output_type": "stream",
     "text": [
      "0.00075\n"
     ]
    }
   ],
   "source": [
    "import numpy as np\n",
    "\n",
    "def rule1(c,dA):\n",
    "    dQ = c*dA\n",
    "    return dQ\n",
    "\n",
    "m= 1.5\n",
    "errorm= .0005\n",
    "errtotal= rule1(m,errorm)\n",
    "print(errtotal)\n"
   ]
  },
  {
   "cell_type": "code",
   "execution_count": 11,
   "id": "b0d99496",
   "metadata": {},
   "outputs": [
    {
     "name": "stdout",
     "output_type": "stream",
     "text": [
      "0.0001355815361366601\n"
     ]
    }
   ],
   "source": [
    "import numpy as np\n",
    "\n",
    "def rule2(c, a, m, da):\n",
    "    dQ= c*m*(a**(m-1))*da\n",
    "    return dQ\n",
    "\n",
    "con = 1\n",
    "measure =3.4\n",
    "p1 = 1/2\n",
    "error = .0005\n",
    "errtotal = rule2(con,measure,p1,error)\n",
    "print(errtotal)\n",
    "\n"
   ]
  },
  {
   "cell_type": "code",
   "execution_count": 3,
   "id": "06249f2d",
   "metadata": {},
   "outputs": [
    {
     "name": "stdout",
     "output_type": "stream",
     "text": [
      "The average found is 1.1199999999999999 The standard devation found is 0.196468827043885\n"
     ]
    }
   ],
   "source": [
    "import numpy as np\n",
    "\n",
    "x = np.array([1.3,1.4,0.9,0.95,1.05])\n",
    "xmean = np.average(x)\n",
    "xstdev = np.std(x)\n",
    "\n",
    "\n",
    "print('The average found is', xmean, 'The standard devation found is', xstdev)"
   ]
  },
  {
   "cell_type": "markdown",
   "id": "38960b86",
   "metadata": {},
   "source": [
    "$\\delta Q = \\sqrt{(\\delta A)^2+(\\delta B)^2}$"
   ]
  },
  {
   "cell_type": "markdown",
   "id": "2c0c5910",
   "metadata": {},
   "source": [
    "$ v_i = \\delta x * \\sqrt{\\frac{g} {2y}}$"
   ]
  },
  {
   "cell_type": "code",
   "execution_count": null,
   "id": "e6b2bac3",
   "metadata": {},
   "outputs": [],
   "source": []
  }
 ],
 "metadata": {
  "kernelspec": {
   "display_name": "Python 3",
   "language": "python",
   "name": "python3"
  },
  "language_info": {
   "codemirror_mode": {
    "name": "ipython",
    "version": 3
   },
   "file_extension": ".py",
   "mimetype": "text/x-python",
   "name": "python",
   "nbconvert_exporter": "python",
   "pygments_lexer": "ipython3",
   "version": "3.8.8"
  }
 },
 "nbformat": 4,
 "nbformat_minor": 5
}
